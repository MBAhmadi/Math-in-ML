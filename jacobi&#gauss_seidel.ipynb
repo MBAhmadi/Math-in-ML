{
 "cells": [
  {
   "cell_type": "markdown",
   "metadata": {},
   "source": [
    "# jacobi iteration method "
   ]
  },
  {
   "cell_type": "code",
   "execution_count": 44,
   "metadata": {},
   "outputs": [
    {
     "name": "stdout",
     "output_type": "stream",
     "text": [
      "Solution: [1. 0. 1.]\n"
     ]
    }
   ],
   "source": [
    "import numpy as np\n",
    "\n",
    "def jacobi(A, b, tolerance=1e-100, max_iterations=1000):\n",
    "    n = len(A)\n",
    "    x = np.zeros_like(b, dtype=np.double)\n",
    "    x_new = np.zeros_like(x)\n",
    "    \n",
    "    for k in range(max_iterations):\n",
    "        for i in range(n):\n",
    "            s1 = np.dot(A[i, :i], x[:i])\n",
    "            s2 = np.dot(A[i, i + 1:], x[i + 1:])\n",
    "            x_new[i] = (b[i] - s1 - s2) / A[i, i]\n",
    "        \n",
    "        if np.linalg.norm(x_new - x, ord=np.inf) < tolerance:\n",
    "            break\n",
    "        \n",
    "        x = x_new.copy()\n",
    "    \n",
    "    return x\n",
    "\n",
    "# Example usage\n",
    "A = np.array([[Delete jacobi&#gauss_seidel.ipynb5, -1, 2],\n",
    "              [1, 4, 1],\n",
    "              [2, 3, -7]], dtype=np.double)\n",
    "\n",
    "b = np.array([7, 2, -5], dtype=np.double)\n",
    "\n",
    "solution = jacobi(A, b)\n",
    "print(\"Solution:\", solution)\n"
   ]
  },
  {
   "cell_type": "code",
   "execution_count": 1,
   "metadata": {},
   "outputs": [
    {
     "name": "stdout",
     "output_type": "stream",
     "text": [
      "section 0 = [-4.6        -5.75        6.42857143]\n",
      "diference =  15.75\n",
      "section 1 = [-2.32142857  0.04285714 -3.06428571]\n",
      "diference =  9.492857142857144\n",
      "section 2 = [2.63428571 1.84642857 0.06938776]\n",
      "diference =  4.955714285714286\n",
      "section 3 = [ 1.74153061 -0.17591837  2.25826531]\n",
      "diference =  2.188877551020408\n",
      "section 4 = [ 0.4615102  -0.49994898  1.1364723 ]\n",
      "diference =  1.2800204081632653\n",
      "section 5 = [0.84542128 0.10050437 0.63188192]\n",
      "diference =  0.6004533527696794\n",
      "section 6 = [1.1673481  0.1306742  0.99890796]\n",
      "diference =  0.36702603082049134\n",
      "section 7 = [ 1.02657166 -0.04156401  1.10381697]\n",
      "diference =  0.17223821324448146\n",
      "section 8 = [ 0.95016041 -0.03259716  0.98977875]\n",
      "diference =  0.1140382191943834\n",
      "section 9 = [0.99756907 0.01501521 0.97178991]\n",
      "diference =  0.04761236716844175\n",
      "section 10 = [1.01428708 0.00766026 1.00574054]\n",
      "diference =  0.033950631412081766\n",
      "section 11 = [ 0.99923584 -0.0050069   1.00736499]\n",
      "diference =  0.015051243193737518\n",
      "section 12 = [ 0.99605262 -0.00165021  0.99763585]\n",
      "diference =  0.009729138429323325\n",
      "section 13 = [1.00061562 0.00157788 0.99816495]\n",
      "diference =  0.004562994926251673\n",
      "section 14 = [1.00104960e+00 3.04858788e-04 1.00085213e+00]\n",
      "diference =  0.0026871790623388403\n",
      "section 15 = [ 9.99720121e-01 -4.75430838e-04  1.00043054e+00]\n",
      "diference =  0.0013294761375779451\n",
      "section 16 = [ 9.99732698e-01 -3.76650609e-05  9.99716279e-01]\n",
      "diference =  0.0007142601647320834\n",
      "section 17 = [1.00010596e+00 1.37755764e-04 9.99907486e-01]\n",
      "diference =  0.0003732572213888119\n",
      "section 18 = [ 1.00006456e+00 -3.36036457e-06  1.00008931e+00]\n",
      "diference =  0.00018182527407462068\n",
      "section 19 = [ 9.99963603e-01 -3.84669949e-05  1.00001700e+00]\n",
      "diference =  0.00010095333541282336\n"
     ]
    }
   ],
   "source": [
    "import numpy as np\n",
    "\n",
    "A = np.array([[5, -1, 2],\n",
    "              [1, 4, 1],\n",
    "              [2, 3, -7]], dtype=np.double)\n",
    "\n",
    "b = np.array([7, 2, -5], dtype=np.double)\n",
    "\n",
    "\n",
    "n = len(A)\n",
    "x = np.array([5, 10, 20], dtype=np.double)\n",
    "x_new = np.zeros_like(x)\n",
    "    \n",
    "for k in range(20):\n",
    "    for i in range(n):\n",
    "        s1 = np.dot(A[i, :i], x[:i])\n",
    "        s2 = np.dot(A[i, i + 1:], x[i + 1:])\n",
    "        x_new[i] = (b[i] - s1 - s2) / A[i, i]\n",
    "        \n",
    "    d = np.linalg.norm(x_new - x, ord=np.inf)\n",
    "        \n",
    "    x = x_new.copy()\n",
    "    print ('section',k,'=',x)\n",
    "    print('diference = ',d)\n"
   ]
  },
  {
   "cell_type": "markdown",
   "metadata": {},
   "source": [
    "# gauss_seidel method"
   ]
  },
  {
   "cell_type": "code",
   "execution_count": 43,
   "metadata": {},
   "outputs": [
    {
     "name": "stdout",
     "output_type": "stream",
     "text": [
      "Solution: [1. 0. 1.]\n"
     ]
    }
   ],
   "source": [
    "import numpy as np\n",
    "\n",
    "def gauss_seidel(A, b, tolerance=1e-100, max_iterations=1000):\n",
    "    n = len(b)\n",
    "    x = np.zeros_like(b, dtype=np.double)\n",
    "    \n",
    "    for k in range(max_iterations):\n",
    "        x_old = x.copy()\n",
    "        \n",
    "        for i in range(n):\n",
    "            sum1 = np.dot(A[i, :i], x[:i])\n",
    "            sum2 = np.dot(A[i, i + 1:], x_old[i + 1:])\n",
    "            x[i] = (b[i] - sum1 - sum2) / A[i, i]\n",
    "        \n",
    "        if np.linalg.norm(x - x_old, ord=np.inf) < tolerance:\n",
    "            break\n",
    "    \n",
    "    return x\n",
    "\n",
    "# Example usage\n",
    "A = np.array([[5, -1, 2],\n",
    "              [1, 4, 1],\n",
    "              [2, 3, -7]], dtype=np.double)\n",
    "\n",
    "b = np.array([7, 2, -5], dtype=np.double)\n",
    "\n",
    "solution = gauss_seidel(A, b)\n",
    "print(\"Solution:\", solution)\n"
   ]
  },
  {
   "cell_type": "code",
   "execution_count": 39,
   "metadata": {},
   "outputs": [
    {
     "name": "stdout",
     "output_type": "stream",
     "text": [
      "section 0 = [-4.6        -3.35       -2.03571429]\n",
      "diference =  22.035714285714285\n",
      "section 1 = [1.54428571 0.62285714 1.42244898]\n",
      "diference =  6.144285714285714\n",
      "section 2 = [ 0.95559184 -0.0945102   0.94680758]\n",
      "diference =  0.7173673469387754\n",
      "section 3 = [1.00237493 0.01270437 1.00612328]\n",
      "diference =  0.1072145772594752\n",
      "section 4 = [ 1.00009156 -0.00155371  0.99936028]\n",
      "diference =  0.014258084131611837\n",
      "section 5 = [9.99945144e-01 1.73642887e-04 1.00005875e+00]\n",
      "diference =  0.001727353840661583\n",
      "section 6 = [ 1.00001123e+00 -1.74939320e-05  9.99995711e-01]\n",
      "diference =  0.00019113681884241895\n",
      "section 7 = [9.99998217e-01 1.51800035e-06 1.00000014e+00]\n",
      "diference =  1.9011932297363643e-05\n",
      "section 8 = [ 1.00000025e+00 -9.70581944e-08  1.00000003e+00]\n",
      "diference =  2.0304879879695648e-06\n",
      "section 9 = [9.99999969e-01 4.99010944e-10 9.99999991e-01]\n",
      "diference =  2.7820029990799355e-07\n",
      "section 10 = [1.00000000e+00 1.27248601e-09 1.00000000e+00]\n",
      "diference =  3.458166886183278e-08\n",
      "section 11 = [ 1.00000000e+00 -2.97982639e-10  1.00000000e+00]\n",
      "diference =  3.930091585502282e-09\n",
      "section 12 = [1.00000000e+00 4.99319475e-11 1.00000000e+00]\n",
      "diference =  4.042828294359424e-10\n",
      "section 13 = [ 1.00000000e+00 -7.15610904e-12  1.00000000e+00]\n",
      "diference =  5.708805650428417e-11\n",
      "section 14 = [1.00000000e+00 9.22401044e-13 1.00000000e+00]\n",
      "diference =  8.078510083109336e-12\n",
      "section 15 = [ 1.00000000e+00 -1.08579812e-13  1.00000000e+00]\n",
      "diference =  1.030980856242536e-12\n",
      "section 16 = [1.00000000e+00 1.16295862e-14 1.00000000e+00]\n",
      "diference =  1.2020939799128882e-13\n",
      "section 17 = [ 1.00000000e+00 -1.11022302e-15  1.00000000e+00]\n",
      "diference =  1.2739809207573671e-14\n",
      "section 18 = [1.00000000e+00 1.11022302e-16 1.00000000e+00]\n",
      "diference =  1.2212453270876722e-15\n",
      "section 19 = [1. 0. 1.]\n",
      "diference =  2.220446049250313e-16\n"
     ]
    }
   ],
   "source": [
    "import numpy as np\n",
    "\n",
    "A = np.array([[5, -1, 2],\n",
    "              [1, 4, 1],\n",
    "              [2, 3, -7]], dtype=np.double)\n",
    "\n",
    "b = np.array([7, 2, -5], dtype=np.double)\n",
    "\n",
    "n = len(b)\n",
    "x = np.array([5, 10, 20], dtype=np.double)  # Start vector\n",
    "    \n",
    "for k in range(20):\n",
    "    x_old = x.copy()\n",
    "        \n",
    "    for i in range(n):\n",
    "        sum1 = np.dot(A[i, :i], x[:i])\n",
    "        sum2 = np.dot(A[i, i + 1:], x_old[i + 1:])\n",
    "        x[i] = (b[i] - sum1 - sum2) / A[i, i]\n",
    "        \n",
    "    d = np.linalg.norm(x - x_old, ord=np.inf)\n",
    "\n",
    "    print ('section',k,'=',x)\n",
    "    print('diference = ',d)"
   ]
  }
 ],
 "metadata": {
  "kernelspec": {
   "display_name": "Python 3",
   "language": "python",
   "name": "python3"
  },
  "language_info": {
   "codemirror_mode": {
    "name": "ipython",
    "version": 3
   },
   "file_extension": ".py",
   "mimetype": "text/x-python",
   "name": "python",
   "nbconvert_exporter": "python",
   "pygments_lexer": "ipython3",
   "version": "3.12.4"
  }
 },
 "nbformat": 4,
 "nbformat_minor": 2
}
